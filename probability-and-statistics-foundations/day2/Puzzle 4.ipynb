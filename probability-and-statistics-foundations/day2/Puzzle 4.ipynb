{
 "cells": [
  {
   "cell_type": "code",
   "execution_count": 7,
   "metadata": {
    "collapsed": false
   },
   "outputs": [],
   "source": [
    "import fractions\n",
    "\n",
    "pB1 = fractions.Fraction(5, 9)\n",
    "pR1 = fractions.Fraction(4, 9)"
   ]
  },
  {
   "cell_type": "code",
   "execution_count": 8,
   "metadata": {
    "collapsed": true
   },
   "outputs": [],
   "source": [
    "pBR2 = fractions.Fraction(7, 10) * fractions.Fraction(3, 9)\n",
    "pRB2 = fractions.Fraction(3, 10) * fractions.Fraction(7, 9)\n",
    "pBB2 = fractions.Fraction(7, 10) * fractions.Fraction(6, 9)"
   ]
  },
  {
   "cell_type": "code",
   "execution_count": 9,
   "metadata": {
    "collapsed": false
   },
   "outputs": [
    {
     "data": {
      "text/plain": [
       "Fraction(7, 15)"
      ]
     },
     "execution_count": 9,
     "metadata": {},
     "output_type": "execute_result"
    }
   ],
   "source": [
    "pB1BR2 = pB1 * pBR2\n",
    "pB1RB2 = pB1 * pRB2\n",
    "pR1BB2 = pR1 * pBB2\n",
    "p = pB1BR2 + pB1RB2 + pR1BB2\n",
    "p"
   ]
  },
  {
   "cell_type": "code",
   "execution_count": null,
   "metadata": {
    "collapsed": true
   },
   "outputs": [],
   "source": []
  }
 ],
 "metadata": {
  "kernelspec": {
   "display_name": "Python 3",
   "language": "python",
   "name": "python3"
  },
  "language_info": {
   "codemirror_mode": {
    "name": "ipython",
    "version": 3
   },
   "file_extension": ".py",
   "mimetype": "text/x-python",
   "name": "python",
   "nbconvert_exporter": "python",
   "pygments_lexer": "ipython3",
   "version": "3.6.0"
  }
 },
 "nbformat": 4,
 "nbformat_minor": 2
}
