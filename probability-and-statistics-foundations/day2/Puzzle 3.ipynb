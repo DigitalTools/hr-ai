{
 "cells": [
  {
   "cell_type": "code",
   "execution_count": 1,
   "metadata": {
    "collapsed": true,
    "deletable": true,
    "editable": true
   },
   "outputs": [],
   "source": [
    "X = {\n",
    "    \"R\": 4,\n",
    "    \"B\": 3\n",
    "}\n",
    "\n",
    "Y = {\n",
    "    \"R\": 5,\n",
    "    \"B\": 4\n",
    "}\n",
    "\n",
    "Z = {\n",
    "    \"R\": 4,\n",
    "    \"B\": 4\n",
    "}"
   ]
  },
  {
   "cell_type": "code",
   "execution_count": 21,
   "metadata": {
    "collapsed": false,
    "deletable": true,
    "editable": true
   },
   "outputs": [],
   "source": [
    "def prob(C, U):\n",
    "    v_addition = sum([v for k,v in U.items()])\n",
    "    return U[C] / v_addition\n"
   ]
  },
  {
   "cell_type": "code",
   "execution_count": 27,
   "metadata": {
    "collapsed": false,
    "deletable": true,
    "editable": true
   },
   "outputs": [
    {
     "data": {
      "text/plain": [
       "0.40476190476190477"
      ]
     },
     "execution_count": 27,
     "metadata": {},
     "output_type": "execute_result"
    }
   ],
   "source": [
    "pRRB = prob(\"R\",X) * prob(\"R\",Y) * prob(\"B\",Z)\n",
    "pRBR = prob(\"R\",X) * prob(\"B\",Y) * prob(\"R\",Z)\n",
    "pBRR = prob(\"B\",X) * prob(\"R\",Y) * prob(\"R\",Z)\n",
    "p = pRRB + pRBR + pBRR\n",
    "p"
   ]
  },
  {
   "cell_type": "code",
   "execution_count": 31,
   "metadata": {
    "collapsed": false,
    "deletable": true,
    "editable": true
   },
   "outputs": [
    {
     "data": {
      "text/plain": [
       "Fraction(17, 42)"
      ]
     },
     "execution_count": 31,
     "metadata": {},
     "output_type": "execute_result"
    }
   ],
   "source": [
    "from fractions import Fraction\n",
    "f = Fraction.from_float(p).limit_denominator()\n",
    "f"
   ]
  },
  {
   "cell_type": "code",
   "execution_count": 32,
   "metadata": {
    "collapsed": false,
    "deletable": true,
    "editable": true
   },
   "outputs": [
    {
     "name": "stdout",
     "output_type": "stream",
     "text": [
      "0.5714285714285714\n",
      "4/7\n"
     ]
    }
   ],
   "source": [
    "import fractions\n",
    "\n",
    "def probf(C, U):\n",
    "    v_addition = sum([v for k,v in U.items()])\n",
    "    f1 = fractions.Fraction(U[C], v_addition)\n",
    "    return f1"
   ]
  },
  {
   "cell_type": "code",
   "execution_count": 34,
   "metadata": {
    "collapsed": false,
    "deletable": true,
    "editable": true
   },
   "outputs": [
    {
     "data": {
      "text/plain": [
       "Fraction(17, 42)"
      ]
     },
     "execution_count": 34,
     "metadata": {},
     "output_type": "execute_result"
    }
   ],
   "source": [
    "pRRBf = probf(\"R\",X) * probf(\"R\",Y) * probf(\"B\",Z)\n",
    "pRBRf = probf(\"R\",X) * probf(\"B\",Y) * probf(\"R\",Z)\n",
    "pBRRf = probf(\"B\",X) * probf(\"R\",Y) * probf(\"R\",Z)\n",
    "pf = pRRBf + pRBRf + pBRRf\n",
    "pf"
   ]
  },
  {
   "cell_type": "code",
   "execution_count": null,
   "metadata": {
    "collapsed": true,
    "deletable": true,
    "editable": true
   },
   "outputs": [],
   "source": []
  }
 ],
 "metadata": {
  "kernelspec": {
   "display_name": "Python 3",
   "language": "python",
   "name": "python3"
  },
  "language_info": {
   "codemirror_mode": {
    "name": "ipython",
    "version": 3
   },
   "file_extension": ".py",
   "mimetype": "text/x-python",
   "name": "python",
   "nbconvert_exporter": "python",
   "pygments_lexer": "ipython3",
   "version": "3.6.0"
  }
 },
 "nbformat": 4,
 "nbformat_minor": 2
}
