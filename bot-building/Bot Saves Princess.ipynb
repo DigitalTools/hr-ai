{
 "cells": [
  {
   "cell_type": "code",
   "execution_count": 24,
   "metadata": {
    "collapsed": false
   },
   "outputs": [
    {
     "name": "stdout",
     "output_type": "stream",
     "text": [
      "DOWN\n",
      "LEFT\n"
     ]
    }
   ],
   "source": [
    "def displayPathtoPrincess(n,grid):\n",
    "    \n",
    "    gridname= ''.join(grid)\n",
    "    \n",
    "    id_m = gridname.index('m')\n",
    "    id_p = gridname.index('p')\n",
    "    \n",
    "    m0 = int ( id_m / n )\n",
    "    p0 = int ( id_p / n )\n",
    "    m1 = int ( id_m % n )\n",
    "    p1 = int ( id_p % n )\n",
    "    \n",
    "    a  = 'DOWN' if m0<=p0 else 'UP'\n",
    "    # go down if bot is above, lower integer\n",
    "    b  = 'LEFT' if m1>=p1 else 'RIGHT'\n",
    "    # go left if bot is to the right, higher integer\n",
    "    \n",
    "    y_dist = abs(p0-m0)\n",
    "    x_dist = abs(p1-m1)\n",
    "    \n",
    "    for _ in iter(range(y_dist)):\n",
    "        print(a)\n",
    "    for _ in iter(range(x_dist)):\n",
    "        print(b)\n",
    "        \n",
    "t = 3\n",
    "\n",
    "grid = ['-','-','-',\n",
    "        '-','m','-',\n",
    "        'p','-','-'\n",
    "       ]\n",
    "\n",
    "displayPathtoPrincess(t,grid)"
   ]
  },
  {
   "cell_type": "code",
   "execution_count": 6,
   "metadata": {
    "collapsed": true
   },
   "outputs": [],
   "source": [
    "gridname = ''.join(grid)"
   ]
  },
  {
   "cell_type": "code",
   "execution_count": 7,
   "metadata": {
    "collapsed": false
   },
   "outputs": [
    {
     "data": {
      "text/plain": [
       "'----m-p--'"
      ]
     },
     "execution_count": 7,
     "metadata": {},
     "output_type": "execute_result"
    }
   ],
   "source": [
    "gridname"
   ]
  },
  {
   "cell_type": "code",
   "execution_count": 8,
   "metadata": {
    "collapsed": true
   },
   "outputs": [],
   "source": [
    "id_m = gridname.index('m')"
   ]
  },
  {
   "cell_type": "code",
   "execution_count": 9,
   "metadata": {
    "collapsed": false
   },
   "outputs": [
    {
     "data": {
      "text/plain": [
       "4"
      ]
     },
     "execution_count": 9,
     "metadata": {},
     "output_type": "execute_result"
    }
   ],
   "source": [
    "id_m"
   ]
  },
  {
   "cell_type": "code",
   "execution_count": 15,
   "metadata": {
    "collapsed": false
   },
   "outputs": [
    {
     "data": {
      "text/plain": [
       "1"
      ]
     },
     "execution_count": 15,
     "metadata": {},
     "output_type": "execute_result"
    }
   ],
   "source": [
    "n = 3\n",
    "m0 = int ( id_m / n )\n",
    "m0"
   ]
  },
  {
   "cell_type": "code",
   "execution_count": 16,
   "metadata": {
    "collapsed": false
   },
   "outputs": [
    {
     "data": {
      "text/plain": [
       "1"
      ]
     },
     "execution_count": 16,
     "metadata": {},
     "output_type": "execute_result"
    }
   ],
   "source": [
    "m1 = int ( id_m % n )\n",
    "m1"
   ]
  },
  {
   "cell_type": "code",
   "execution_count": 14,
   "metadata": {
    "collapsed": false
   },
   "outputs": [
    {
     "data": {
      "text/plain": [
       "2"
      ]
     },
     "execution_count": 14,
     "metadata": {},
     "output_type": "execute_result"
    }
   ],
   "source": [
    "id_p = gridname.index('p')\n",
    "p0 = int ( id_p / n )\n",
    "p0"
   ]
  },
  {
   "cell_type": "code",
   "execution_count": 17,
   "metadata": {
    "collapsed": false
   },
   "outputs": [
    {
     "data": {
      "text/plain": [
       "0"
      ]
     },
     "execution_count": 17,
     "metadata": {},
     "output_type": "execute_result"
    }
   ],
   "source": [
    "p1 = int ( id_p % n )\n",
    "p1"
   ]
  },
  {
   "cell_type": "code",
   "execution_count": 25,
   "metadata": {
    "collapsed": false
   },
   "outputs": [
    {
     "name": "stdout",
     "output_type": "stream",
     "text": [
      "DOWN\n",
      "DOWN\n",
      "LEFT\n"
     ]
    }
   ],
   "source": [
    "t = 4\n",
    "\n",
    "grid = ['-','-','-','-',\n",
    "        '-','m','-','-',\n",
    "        '-','-','-','-',\n",
    "        'p','-','-','-'\n",
    "       ]\n",
    "\n",
    "displayPathtoPrincess(t,grid)"
   ]
  },
  {
   "cell_type": "code",
   "execution_count": 26,
   "metadata": {
    "collapsed": false
   },
   "outputs": [
    {
     "name": "stdout",
     "output_type": "stream",
     "text": [
      "DOWN\n",
      "DOWN\n",
      "DOWN\n",
      "RIGHT\n",
      "RIGHT\n",
      "RIGHT\n"
     ]
    }
   ],
   "source": [
    "t = 4\n",
    "\n",
    "grid = ['m','-','-','-',\n",
    "        '-','-','-','-',\n",
    "        '-','-','-','-',\n",
    "        '-','-','-','p'\n",
    "       ]\n",
    "\n",
    "displayPathtoPrincess(t,grid)"
   ]
  },
  {
   "cell_type": "code",
   "execution_count": null,
   "metadata": {
    "collapsed": true
   },
   "outputs": [],
   "source": []
  }
 ],
 "metadata": {
  "kernelspec": {
   "display_name": "Python 3",
   "language": "python",
   "name": "python3"
  },
  "language_info": {
   "codemirror_mode": {
    "name": "ipython",
    "version": 3
   },
   "file_extension": ".py",
   "mimetype": "text/x-python",
   "name": "python",
   "nbconvert_exporter": "python",
   "pygments_lexer": "ipython3",
   "version": "3.6.0"
  }
 },
 "nbformat": 4,
 "nbformat_minor": 2
}
